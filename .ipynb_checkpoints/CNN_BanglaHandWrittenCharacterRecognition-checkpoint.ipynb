{
 "cells": [
  {
   "cell_type": "markdown",
   "metadata": {},
   "source": [
    "## Creating the CNN model"
   ]
  },
  {
   "cell_type": "code",
   "execution_count": 1,
   "metadata": {},
   "outputs": [
    {
     "name": "stdout",
     "output_type": "stream",
     "text": [
      "TensorFlow Version: 2.1.0\n",
      "Default GPU Device: /device:GPU:0\n"
     ]
    }
   ],
   "source": [
    "from distutils.version import LooseVersion\n",
    "import warnings\n",
    "import tensorflow as tf\n",
    "\n",
    "# Check TensorFlow Version\n",
    "assert LooseVersion(tf.__version__) >= LooseVersion('1.0'), 'Please use TensorFlow version 1.0 or newer.  You are using {}'.format(tf.__version__)\n",
    "print('TensorFlow Version: {}'.format(tf.__version__))\n",
    "\n",
    "# Check for a GPU\n",
    "if not tf.test.gpu_device_name():\n",
    "    warnings.warn('No GPU found. Please ensure you have installed TensorFlow correctly')\n",
    "else:\n",
    "    print('Default GPU Device: {}'.format(tf.test.gpu_device_name()))"
   ]
  },
  {
   "cell_type": "code",
   "execution_count": 2,
   "metadata": {},
   "outputs": [
    {
     "name": "stderr",
     "output_type": "stream",
     "text": [
      "Using TensorFlow backend.\n"
     ]
    }
   ],
   "source": [
    "from keras.models import Sequential\n",
    "from keras.layers import Conv2D, MaxPooling2D, Flatten, Dense, Dropout"
   ]
  },
  {
   "cell_type": "code",
   "execution_count": 3,
   "metadata": {},
   "outputs": [],
   "source": [
    "classifier = Sequential()\n",
    "\n",
    "classifier.add(Conv2D(filters = 128, kernel_size = (3, 3), activation = 'relu', input_shape = (40, 40, 3)))\n",
    "classifier.add(MaxPooling2D(pool_size = (2, 2)))\n",
    "classifier.add(Dropout(.2))\n",
    "\n",
    "classifier.add(Conv2D(filters = 64, kernel_size = (3, 3), activation = 'relu'))\n",
    "classifier.add(MaxPooling2D(pool_size = (2, 2)))\n",
    "classifier.add(Dropout(.2))\n",
    "\n",
    "classifier.add(Flatten())\n",
    "\n",
    "classifier.add(Dense(units = 128, activation = 'relu'))\n",
    "classifier.add(Dropout(.2))\n",
    "\n",
    "classifier.add(Dense(units = 46, activation = 'softmax'))\n",
    "\n",
    "classifier.compile(optimizer = 'adam', loss = 'categorical_crossentropy', metrics = ['accuracy'])"
   ]
  },
  {
   "cell_type": "markdown",
   "metadata": {},
   "source": [
    "## Fitting the CNN model to the Dataset"
   ]
  },
  {
   "cell_type": "code",
   "execution_count": 4,
   "metadata": {},
   "outputs": [],
   "source": [
    "from keras.preprocessing.image import ImageDataGenerator\n",
    "from PIL import ImageFile"
   ]
  },
  {
   "cell_type": "code",
   "execution_count": 5,
   "metadata": {},
   "outputs": [
    {
     "name": "stdout",
     "output_type": "stream",
     "text": [
      "Found 46000 images belonging to 46 classes.\n",
      "Found 11500 images belonging to 46 classes.\n"
     ]
    }
   ],
   "source": [
    "ImageFile.LOAD_TRUNCATED_IMAGES = True\n",
    "\n",
    "train_datagen = ImageDataGenerator(rescale = 1./255, shear_range = .2, rotation_range = 25)\n",
    "test_datagen = ImageDataGenerator(rescale = 1./255)\n",
    "\n",
    "training_set = train_datagen.flow_from_directory('Dataset/Train', target_size = (40, 40), \n",
    "                                                 batch_size = 32, class_mode = 'categorical')\n",
    "test_set = test_datagen.flow_from_directory('Dataset/Test', target_size = (40, 40), \n",
    "                                                 batch_size = 32, class_mode = 'categorical')"
   ]
  },
  {
   "cell_type": "code",
   "execution_count": 6,
   "metadata": {
    "scrolled": true
   },
   "outputs": [
    {
     "name": "stdout",
     "output_type": "stream",
     "text": [
      "Epoch 1/10\n",
      "46000/46000 [==============================] - 1289s 28ms/step - loss: 0.1691 - accuracy: 0.9479 - val_loss: 1.7100 - val_accuracy: 0.7589\n",
      "Epoch 2/10\n",
      "46000/46000 [==============================] - 1250s 27ms/step - loss: 0.0661 - accuracy: 0.9790 - val_loss: 2.0902 - val_accuracy: 0.7493\n",
      "Epoch 3/10\n",
      "46000/46000 [==============================] - 1229s 27ms/step - loss: 0.0573 - accuracy: 0.9823 - val_loss: 4.6326 - val_accuracy: 0.7446\n",
      "Epoch 4/10\n",
      "46000/46000 [==============================] - 1229s 27ms/step - loss: 0.0538 - accuracy: 0.9836 - val_loss: 2.0768 - val_accuracy: 0.7525\n",
      "Epoch 5/10\n",
      "46000/46000 [==============================] - 1221s 27ms/step - loss: 0.0519 - accuracy: 0.9845 - val_loss: 6.7037 - val_accuracy: 0.7718\n",
      "Epoch 6/10\n",
      "46000/46000 [==============================] - 1219s 27ms/step - loss: 0.0503 - accuracy: 0.9852 - val_loss: 2.9664 - val_accuracy: 0.7747\n",
      "Epoch 7/10\n",
      "46000/46000 [==============================] - 1225s 27ms/step - loss: 0.0499 - accuracy: 0.9855 - val_loss: 3.8237 - val_accuracy: 0.7826\n",
      "Epoch 8/10\n",
      "46000/46000 [==============================] - 1222s 27ms/step - loss: 0.0489 - accuracy: 0.9859 - val_loss: 3.9434 - val_accuracy: 0.7780\n",
      "Epoch 9/10\n",
      "46000/46000 [==============================] - 1224s 27ms/step - loss: 0.0482 - accuracy: 0.9863 - val_loss: 1.4930 - val_accuracy: 0.7724\n",
      "Epoch 10/10\n",
      "46000/46000 [==============================] - 1226s 27ms/step - loss: 0.0474 - accuracy: 0.9866 - val_loss: 2.3465 - val_accuracy: 0.7697\n"
     ]
    },
    {
     "data": {
      "text/plain": [
       "<keras.callbacks.callbacks.History at 0x168f495fbc8>"
      ]
     },
     "execution_count": 6,
     "metadata": {},
     "output_type": "execute_result"
    }
   ],
   "source": [
    "classifier.fit_generator(training_set, steps_per_epoch = 46000, epochs = 10,\n",
    "                        validation_data = test_set, validation_steps = 11500)"
   ]
  },
  {
   "cell_type": "code",
   "execution_count": 5,
   "metadata": {
    "scrolled": true
   },
   "outputs": [
    {
     "name": "stdout",
     "output_type": "stream",
     "text": [
      "Model: \"sequential_1\"\n",
      "_________________________________________________________________\n",
      "Layer (type)                 Output Shape              Param #   \n",
      "=================================================================\n",
      "conv2d_1 (Conv2D)            (None, 38, 38, 128)       3584      \n",
      "_________________________________________________________________\n",
      "max_pooling2d_1 (MaxPooling2 (None, 19, 19, 128)       0         \n",
      "_________________________________________________________________\n",
      "dropout_1 (Dropout)          (None, 19, 19, 128)       0         \n",
      "_________________________________________________________________\n",
      "conv2d_2 (Conv2D)            (None, 17, 17, 64)        73792     \n",
      "_________________________________________________________________\n",
      "max_pooling2d_2 (MaxPooling2 (None, 8, 8, 64)          0         \n",
      "_________________________________________________________________\n",
      "dropout_2 (Dropout)          (None, 8, 8, 64)          0         \n",
      "_________________________________________________________________\n",
      "flatten_1 (Flatten)          (None, 4096)              0         \n",
      "_________________________________________________________________\n",
      "dense_1 (Dense)              (None, 128)               524416    \n",
      "_________________________________________________________________\n",
      "dropout_3 (Dropout)          (None, 128)               0         \n",
      "_________________________________________________________________\n",
      "dense_2 (Dense)              (None, 46)                5934      \n",
      "=================================================================\n",
      "Total params: 607,726\n",
      "Trainable params: 607,726\n",
      "Non-trainable params: 0\n",
      "_________________________________________________________________\n"
     ]
    }
   ],
   "source": [
    "classifier.summary()"
   ]
  },
  {
   "cell_type": "markdown",
   "metadata": {},
   "source": [
    "## Saving the model"
   ]
  },
  {
   "cell_type": "code",
   "execution_count": 6,
   "metadata": {
    "scrolled": true
   },
   "outputs": [
    {
     "name": "stdout",
     "output_type": "stream",
     "text": [
      "Saved model to disk\n"
     ]
    }
   ],
   "source": [
    "classifier_json = classifier.to_json()\n",
    "\n",
    "with open(\"CNN_DevanagariHandWrittenCharacterRecognition.json\", \"w\") as json_file:\n",
    "    json_file.write(classifier_json)\n",
    "    \n",
    "classifier.save_weights(\"CNN_DevanagariHandWrittenCharacterRecognition.h5\")\n",
    "print('Saved model to disk')"
   ]
  },
  {
   "cell_type": "markdown",
   "metadata": {},
   "source": [
    "## Creating a graphical user interface to draw the character"
   ]
  },
  {
   "cell_type": "code",
   "execution_count": 7,
   "metadata": {},
   "outputs": [],
   "source": [
    "import PIL\n",
    "from PIL import ImageTk, ImageDraw, Image, ImageOps\n",
    "from tkinter import *\n",
    "from keras.preprocessing import image\n",
    "import os"
   ]
  },
  {
   "cell_type": "code",
   "execution_count": 14,
   "metadata": {},
   "outputs": [],
   "source": [
    "def create_new_image():\n",
    "    width = 300\n",
    "    height = 300\n",
    "    center = height // 2\n",
    "    white = (255, 255, 255)\n",
    "    black = (0, 0, 0)\n",
    "    green = (0, 128, 0)\n",
    "    \n",
    "    \n",
    "    def save():\n",
    "#         filename = 'C:/Users/peris/Documents/Devanagari Character Recognition - 2020/Dataset/SinglePrediction/image.jpg'\n",
    "#         image.save(filename)\n",
    "        root.destroy()\n",
    "        \n",
    "    def paint(event):\n",
    "        x1, y1 = (event.x - 1), (event.y - 1)\n",
    "        x2, y2 = (event.x + 1), (event.y + 1)\n",
    "        cv.create_oval(x1, y1, x2, y2, fill = 'black', width = 40)\n",
    "        draw.line([x1, y1, x2, y2], fill = 'black', width = 40)\n",
    "        \n",
    "    root = Tk()\n",
    "#     root.geometry(\"500x500+120+120\")\n",
    "    cv = Canvas(root, width = width, height = height, bg = 'white')\n",
    "    cv.pack()\n",
    "    \n",
    "    image = PIL.Image.new('RGB', (width, height), white)\n",
    "    draw = ImageDraw.Draw(image)\n",
    "    \n",
    "    cv.pack(expand = YES, fill = BOTH)\n",
    "    cv.bind(\"<B1-Motion>\", paint)\n",
    "    \n",
    "    button = Button(text = 'Save', command = save)\n",
    "    button.pack()\n",
    "    \n",
    "    \n",
    "    root.mainloop()"
   ]
  },
  {
   "cell_type": "code",
   "execution_count": 15,
   "metadata": {},
   "outputs": [],
   "source": [
    "def determine_character(res):\n",
    "    if res == 0:\n",
    "        print('prediction : क')\n",
    "    elif res == 1:\n",
    "        print('prediction : ख')\n",
    "    elif res == 2:\n",
    "        print('prediction : ग')\n",
    "    elif res == 3:\n",
    "        print('prediction : घ')\n",
    "    elif res == 4:\n",
    "        print('prediction : ङ')\n",
    "    elif res == 5:\n",
    "        print('prediction : च')\n",
    "    elif res == 6:\n",
    "        print('prediction : छ')\n",
    "    elif res == 7:\n",
    "        print('prediction : ज')\n",
    "    elif res == 8:\n",
    "        print('prediction : झ')\n",
    "    elif res == 9:\n",
    "        print('prediction : ञ')\n",
    "    elif res == 10:\n",
    "        print('prediction : ट')\n",
    "    elif res == 11:\n",
    "        print('prediction : ठ')\n",
    "    elif res == 12:\n",
    "        print('prediction : ड')\n",
    "    elif res == 13:\n",
    "        print('prediction : ढ')\n",
    "    elif res == 14:\n",
    "        print('prediction : ण')\n",
    "    elif res == 15:\n",
    "        print('prediction : त')\n",
    "    elif res == 16:\n",
    "        print('prediction : थ')\n",
    "    elif res == 17:\n",
    "        print('prediction : द')\n",
    "    elif res == 18:\n",
    "        print('prediction : ध')\n",
    "    elif res == 19:\n",
    "        print('prediction : न')\n",
    "    elif res == 20:\n",
    "        print('prediction : प')\n",
    "    elif res == 21:\n",
    "        print('prediction : फ')\n",
    "    elif res == 22:\n",
    "        print('prediction : ब')\n",
    "    elif res == 23:\n",
    "        print('prediction : भ')\n",
    "    elif res == 24:\n",
    "        print('prediction : म')\n",
    "    elif res == 25:\n",
    "        print('prediction : य')\n",
    "    elif res == 26:\n",
    "        print('prediction : र')\n",
    "    elif res == 27:\n",
    "        print('prediction : ल')\n",
    "    elif res == 28:\n",
    "        print('prediction : व')\n",
    "    elif res == 29:\n",
    "        print('prediction : श')\n",
    "    elif res == 30:\n",
    "        print('prediction : ष')\n",
    "    elif res == 31:\n",
    "        print('prediction : स')\n",
    "    elif res == 32:\n",
    "        print('prediction : ह')\n",
    "    elif res == 33:\n",
    "        print('prediction : क्ष')\n",
    "    elif res == 34:\n",
    "        print('prediction : त्र')\n",
    "    elif res == 35:\n",
    "        print('prediction : ज्ञ')\n",
    "    elif res == 36:\n",
    "        print('prediction : ०')\n",
    "    elif res == 37:\n",
    "        print('prediction : १')\n",
    "    elif res == 38:\n",
    "        print('prediction : २')\n",
    "    elif res == 39:\n",
    "        print('prediction : ३')\n",
    "    elif res == 40:\n",
    "        print('prediction : ४')\n",
    "    elif res == 41:\n",
    "        print('prediction : ५')\n",
    "    elif res == 42:\n",
    "        print('prediction : ६')\n",
    "    elif res == 43:\n",
    "        print('prediction : ७')\n",
    "    elif res == 44:\n",
    "        print('prediction : ८')\n",
    "    elif res == 45:\n",
    "        print('prediction : ९')"
   ]
  },
  {
   "cell_type": "code",
   "execution_count": 16,
   "metadata": {},
   "outputs": [],
   "source": [
    "import numpy as np\n",
    "\n",
    "def single_prediction(test_img):\n",
    "    test_img_arr = image.img_to_array(test_img)\n",
    "    \n",
    "    test_img_arr = np.expand_dims(test_img_arr, axis = 0)\n",
    "    accuracy = classifier.predict(test_img_arr)[0]\n",
    "    prediction = classifier.predict(test_img_arr)\n",
    "    \n",
    "    result = np.argmax(prediction, axis = 1)\n",
    "    \n",
    "    determine_character(result)"
   ]
  },
  {
   "cell_type": "code",
   "execution_count": 17,
   "metadata": {},
   "outputs": [],
   "source": [
    "def delete_created_image():\n",
    "    os.remove('C:/Users/peris/Documents/Devanagari Character Recognition - 2020/Dataset/SinglePrediction/image.png')"
   ]
  },
  {
   "cell_type": "code",
   "execution_count": 20,
   "metadata": {},
   "outputs": [],
   "source": [
    "import matplotlib.pyplot as plt\n",
    "\n",
    "def draw_n_guess_the_character():\n",
    "    create_new_image()\n",
    "#     test_img = ImageOps.invert(image.load_img('C:/Users/peris/Documents/Devanagari Character Recognition - 2020/Dataset/SinglePrediction/image.png', target_size = (40, 40, 3)))\n",
    "    test_img = image.load_img('C:/Users/peris/Documents/Devanagari Character Recognition - 2020/Dataset/SinglePrediction/image.png', target_size = (40, 40, 3))\n",
    "    single_prediction(test_img)\n",
    "    plt.imshow(test_img)\n",
    "#     delete_created_image()"
   ]
  },
  {
   "cell_type": "code",
   "execution_count": 22,
   "metadata": {},
   "outputs": [
    {
     "name": "stdout",
     "output_type": "stream",
     "text": [
      "prediction : ३\n"
     ]
    },
    {
     "data": {
      "image/png": "[encoded data removed]",
      "text/plain": [
       "<Figure size 432x288 with 1 Axes>"
      ]
     },
     "metadata": {
      "needs_background": "light"
     },
     "output_type": "display_data"
    }
   ],
   "source": [
    "draw_n_guess_the_character()"
   ]
  },
  {
   "cell_type": "code",
   "execution_count": null,
   "metadata": {},
   "outputs": [],
   "source": []
  },
  {
   "cell_type": "code",
   "execution_count": null,
   "metadata": {},
   "outputs": [],
   "source": []
  },
  {
   "cell_type": "code",
   "execution_count": null,
   "metadata": {},
   "outputs": [],
   "source": []
  }
 ],
 "metadata": {
  "kernelspec": {
   "display_name": "221710308043",
   "language": "python",
   "name": "221710308043"
  },
  "language_info": {
   "codemirror_mode": {
    "name": "ipython",
    "version": 3
   },
   "file_extension": ".py",
   "mimetype": "text/x-python",
   "name": "python",
   "nbconvert_exporter": "python",
   "pygments_lexer": "ipython3",
   "version": "3.7.8"
  }
 },
 "nbformat": 4,
 "nbformat_minor": 4
}
