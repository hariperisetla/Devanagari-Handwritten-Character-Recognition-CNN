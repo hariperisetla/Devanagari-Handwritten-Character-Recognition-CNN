{
 "cells": [
  {
   "cell_type": "markdown",
   "metadata": {},
   "source": [
    "## Creating the CNN model"
   ]
  },
  {
   "cell_type": "code",
   "execution_count": 189,
   "metadata": {},
   "outputs": [
    {
     "name": "stdout",
     "output_type": "stream",
     "text": [
      "TensorFlow Version: 2.1.0\n",
      "Default GPU Device: /device:GPU:0\n"
     ]
    }
   ],
   "source": [
    "from distutils.version import LooseVersion\n",
    "import warnings\n",
    "import tensorflow as tf\n",
    "\n",
    "# Check TensorFlow Version\n",
    "assert LooseVersion(tf.__version__) >= LooseVersion('1.0'), 'Please use TensorFlow version 1.0 or newer.  You are using {}'.format(tf.__version__)\n",
    "print('TensorFlow Version: {}'.format(tf.__version__))\n",
    "\n",
    "# Check for a GPU\n",
    "if not tf.test.gpu_device_name():\n",
    "    warnings.warn('No GPU found. Please ensure you have installed TensorFlow correctly')\n",
    "else:\n",
    "    print('Default GPU Device: {}'.format(tf.test.gpu_device_name()))"
   ]
  },
  {
   "cell_type": "code",
   "execution_count": 190,
   "metadata": {},
   "outputs": [],
   "source": [
    "from keras.models import Sequential\n",
    "from keras.layers import Conv2D, MaxPooling2D, Flatten, Dense, Dropout"
   ]
  },
  {
   "cell_type": "code",
   "execution_count": 191,
   "metadata": {},
   "outputs": [],
   "source": [
    "classifier = Sequential()\n",
    "\n",
    "classifier.add(Conv2D(filters = 128, kernel_size = (3, 3), activation = 'relu', input_shape = (40, 40, 3)))\n",
    "classifier.add(MaxPooling2D(pool_size = (2, 2)))\n",
    "classifier.add(Dropout(.2))\n",
    "\n",
    "classifier.add(Conv2D(filters = 64, kernel_size = (3, 3), activation = 'relu'))\n",
    "classifier.add(MaxPooling2D(pool_size = (2, 2)))\n",
    "classifier.add(Dropout(.2))\n",
    "\n",
    "classifier.add(Flatten())\n",
    "\n",
    "classifier.add(Dense(units = 128, activation = 'relu'))\n",
    "classifier.add(Dropout(.2))\n",
    "\n",
    "classifier.add(Dense(units = 12, activation = 'softmax'))\n",
    "\n",
    "classifier.compile(optimizer = 'adam', loss = 'categorical_crossentropy', metrics = ['accuracy'])"
   ]
  },
  {
   "cell_type": "markdown",
   "metadata": {},
   "source": [
    "## Fitting the CNN model to the Dataset"
   ]
  },
  {
   "cell_type": "code",
   "execution_count": 192,
   "metadata": {},
   "outputs": [],
   "source": [
    "from keras.preprocessing.image import ImageDataGenerator\n",
    "from PIL import ImageFile"
   ]
  },
  {
   "cell_type": "code",
   "execution_count": 193,
   "metadata": {},
   "outputs": [
    {
     "name": "stdout",
     "output_type": "stream",
     "text": [
      "Found 2652 images belonging to 12 classes.\n",
      "Found 720 images belonging to 12 classes.\n"
     ]
    }
   ],
   "source": [
    "ImageFile.LOAD_TRUNCATED_IMAGES = True\n",
    "\n",
    "train_datagen = ImageDataGenerator(rescale = 1./255, shear_range = .2, rotation_range = 25)\n",
    "test_datagen = ImageDataGenerator(rescale = 1./255)\n",
    "\n",
    "training_set = train_datagen.flow_from_directory('Dataset/TrainBmp', target_size = (40, 40), \n",
    "                                                 batch_size = 32, class_mode = 'categorical')\n",
    "\n",
    "test_set = test_datagen.flow_from_directory('Dataset/TestBmp', target_size = (40, 40), \n",
    "                                                 batch_size = 32, class_mode = 'categorical')"
   ]
  },
  {
   "cell_type": "code",
   "execution_count": 6,
   "metadata": {
    "scrolled": true
   },
   "outputs": [
    {
     "name": "stdout",
     "output_type": "stream",
     "text": [
      "Epoch 1/10\n",
      "2652/2652 [==============================] - 85s 32ms/step - loss: 0.3238 - accuracy: 0.8865 - val_loss: 0.0015 - val_accuracy: 0.9958oss: 0.3250 - accu\n",
      "Epoch 2/10\n",
      "2652/2652 [==============================] - 75s 28ms/step - loss: 0.0914 - accuracy: 0.9677 - val_loss: 0.0013 - val_accuracy: 0.9972\n",
      "Epoch 3/10\n",
      "2652/2652 [==============================] - 75s 28ms/step - loss: 0.0654 - accuracy: 0.9764 - val_loss: 8.6289e-04 - val_accuracy: 1.0000\n",
      "Epoch 4/10\n",
      "2652/2652 [==============================] - 75s 28ms/step - loss: 0.0542 - accuracy: 0.9811 - val_loss: 9.6520e-06 - val_accuracy: 1.0000\n",
      "Epoch 5/10\n",
      "2652/2652 [==============================] - 74s 28ms/step - loss: 0.0456 - accuracy: 0.9842 - val_loss: 3.0294e-04 - val_accuracy: 0.9986\n",
      "Epoch 6/10\n",
      "2652/2652 [==============================] - 76s 29ms/step - loss: 0.0408 - accuracy: 0.9863 - val_loss: 3.8228e-05 - val_accuracy: 1.0000\n",
      "Epoch 7/10\n",
      "2652/2652 [==============================] - 74s 28ms/step - loss: 0.0383 - accuracy: 0.9868 - val_loss: 6.4421e-04 - val_accuracy: 1.0000\n",
      "Epoch 8/10\n",
      "2652/2652 [==============================] - 76s 29ms/step - loss: 0.0368 - accuracy: 0.9879 - val_loss: 1.8254e-07 - val_accuracy: 1.0000\n",
      "Epoch 9/10\n",
      "2652/2652 [==============================] - 75s 28ms/step - loss: 0.0330 - accuracy: 0.9891 - val_loss: 0.0056 - val_accuracy: 1.0000\n",
      "Epoch 10/10\n",
      "2652/2652 [==============================] - 75s 28ms/step - loss: 0.0304 - accuracy: 0.9896 - val_loss: 1.9066e-04 - val_accuracy: 1.0000\n"
     ]
    },
    {
     "data": {
      "text/plain": [
       "<keras.callbacks.callbacks.History at 0x1ae6d107e48>"
      ]
     },
     "execution_count": 6,
     "metadata": {},
     "output_type": "execute_result"
    }
   ],
   "source": [
    "classifier.fit_generator(training_set, steps_per_epoch = 2652, epochs = 10,\n",
    "                        validation_data = test_set, validation_steps = 720)"
   ]
  },
  {
   "cell_type": "code",
   "execution_count": 194,
   "metadata": {
    "scrolled": true
   },
   "outputs": [
    {
     "name": "stdout",
     "output_type": "stream",
     "text": [
      "Model: \"sequential_2\"\n",
      "_________________________________________________________________\n",
      "Layer (type)                 Output Shape              Param #   \n",
      "=================================================================\n",
      "conv2d_3 (Conv2D)            (None, 38, 38, 128)       3584      \n",
      "_________________________________________________________________\n",
      "max_pooling2d_3 (MaxPooling2 (None, 19, 19, 128)       0         \n",
      "_________________________________________________________________\n",
      "dropout_4 (Dropout)          (None, 19, 19, 128)       0         \n",
      "_________________________________________________________________\n",
      "conv2d_4 (Conv2D)            (None, 17, 17, 64)        73792     \n",
      "_________________________________________________________________\n",
      "max_pooling2d_4 (MaxPooling2 (None, 8, 8, 64)          0         \n",
      "_________________________________________________________________\n",
      "dropout_5 (Dropout)          (None, 8, 8, 64)          0         \n",
      "_________________________________________________________________\n",
      "flatten_2 (Flatten)          (None, 4096)              0         \n",
      "_________________________________________________________________\n",
      "dense_3 (Dense)              (None, 128)               524416    \n",
      "_________________________________________________________________\n",
      "dropout_6 (Dropout)          (None, 128)               0         \n",
      "_________________________________________________________________\n",
      "dense_4 (Dense)              (None, 12)                1548      \n",
      "=================================================================\n",
      "Total params: 603,340\n",
      "Trainable params: 603,340\n",
      "Non-trainable params: 0\n",
      "_________________________________________________________________\n"
     ]
    }
   ],
   "source": [
    "classifier.summary()"
   ]
  },
  {
   "cell_type": "code",
   "execution_count": null,
   "metadata": {},
   "outputs": [],
   "source": []
  },
  {
   "cell_type": "markdown",
   "metadata": {},
   "source": [
    "## Saving the model"
   ]
  },
  {
   "cell_type": "code",
   "execution_count": 223,
   "metadata": {
    "scrolled": true
   },
   "outputs": [
    {
     "name": "stdout",
     "output_type": "stream",
     "text": [
      "Saved model to disk\n"
     ]
    }
   ],
   "source": [
    "classifier_json = classifier.to_json()\n",
    "\n",
    "with open(\"CNN_DevanagariHandWrittenCharacterRecognition.json\", \"w\") as json_file:\n",
    "    json_file.write(classifier_json)\n",
    "    \n",
    "classifier.save_weights(\"CNN_DevanagariHandWrittenCharacterRecognition.h5\")\n",
    "print('Saved model to disk')"
   ]
  },
  {
   "cell_type": "code",
   "execution_count": 224,
   "metadata": {},
   "outputs": [
    {
     "data": {
      "text/plain": [
       "{'1': 0,\n",
       " '10': 1,\n",
       " '11': 2,\n",
       " '12': 3,\n",
       " '2': 4,\n",
       " '3': 5,\n",
       " '4': 6,\n",
       " '5': 7,\n",
       " '6': 8,\n",
       " '7': 9,\n",
       " '8': 10,\n",
       " '9': 11}"
      ]
     },
     "execution_count": 224,
     "metadata": {},
     "output_type": "execute_result"
    }
   ],
   "source": [
    "training_set.class_indices"
   ]
  },
  {
   "cell_type": "markdown",
   "metadata": {},
   "source": [
    "## Creating a graphical user interface to draw the character"
   ]
  },
  {
   "cell_type": "code",
   "execution_count": 225,
   "metadata": {},
   "outputs": [],
   "source": [
    "import PIL\n",
    "from PIL import ImageTk, ImageDraw, Image, ImageOps\n",
    "from tkinter import *\n",
    "from keras.preprocessing import image\n",
    "import os"
   ]
  },
  {
   "cell_type": "code",
   "execution_count": 226,
   "metadata": {},
   "outputs": [],
   "source": [
    "# import numpy as np\n",
    "\n",
    "\n",
    "\n",
    "# def create_new_image():\n",
    "#     width = 500\n",
    "#     height = 500\n",
    "#     center = height // 2\n",
    "#     white = (255, 255, 255)\n",
    "#     black = (0, 0, 0)\n",
    "#     green = (0, 128, 0)\n",
    "    \n",
    "    \n",
    "#     def save():\n",
    "#         filename = 'C:/Users/peris/Documents/Devanagari Character Recognition - 2020/Dataset/SinglePrediction/image.jpg'\n",
    "#         image.save(filename)\n",
    "# #         root.destroy()\n",
    "        \n",
    "#     def paint(event):\n",
    "#         x1, y1 = (event.x - 15), (event.y - 15)\n",
    "#         x2, y2 = (event.x + 15), (event.y + 15)\n",
    "#         cv.create_oval(x1, y1, x2, y2, fill = 'black', width = 40)\n",
    "#         draw.line([x1, y1, x2, y2], fill = 'black', width = 40)\n",
    "       \n",
    "#     def predicting():\n",
    "#         save()\n",
    "#         test_img = image.load_img('C:/Users/peris/Documents/Devanagari Character Recognition - 2020/Dataset/SinglePrediction/image.jpg', target_size = (40, 40, 3))\n",
    "        \n",
    "#         test_img_arr = image.img_to_array(test_img)\n",
    "\n",
    "#         test_img_arr = np.expand_dims(test_img_arr, axis = 0)\n",
    "#     #     accuracy = classifier.predict(test_img_arr)[0]\n",
    "#         prediction = classifier.predict(test_img_arr)\n",
    "\n",
    "#         result = np.argmax(prediction, axis = 1)\n",
    "#         acc = round(prediction[0][np.argmax(prediction[0])]*100,3)\n",
    "\n",
    "#         print(acc)\n",
    "#         determine_character(result, str(acc))\n",
    "    \n",
    "#     def clear():\n",
    "#         delete_created_image()\n",
    "#         cv.delete('all')\n",
    "#         draw.rectangle((0, 0, 500, 500), fill=(255, 255, 255, 0))\n",
    "#         txt.delete('1.0', END)\n",
    "        \n",
    "#     root = Tk()\n",
    "# #     root.geometry(\"500x500+120+120\")\n",
    "#     cv = Canvas(root, width = width, height = height, bg = 'white')\n",
    "#     cv.pack()\n",
    "    \n",
    "#     image = PIL.Image.new('RGB', (width, height), white)\n",
    "#     draw = ImageDraw.Draw(image)\n",
    "    \n",
    "#     txt=tk.Text(root,bd=3,exportselection=0,bg='WHITE',font='Helvetica',\n",
    "#             padx=10,pady=10,height=5,width=20)\n",
    "    \n",
    "#     cv.pack(expand = YES, fill = BOTH)\n",
    "#     cv.bind(\"<B1-Motion>\", paint)\n",
    "    \n",
    "#     button = Button(text = 'Save', command = save)\n",
    "#     btnModel=Button(text=\"Predict\",command=predicting)\n",
    "#     btnClear=Button(text=\"clear\",command=clear)\n",
    "#     ##button.pack()\n",
    "#     btnModel.pack()\n",
    "#     btnClear.pack()\n",
    "#     button.pack()\n",
    "#     txt.pack()\n",
    "    \n",
    "#     root.mainloop()"
   ]
  },
  {
   "cell_type": "code",
   "execution_count": 227,
   "metadata": {},
   "outputs": [
    {
     "data": {
      "text/plain": [
       "{'1': 0,\n",
       " '10': 1,\n",
       " '11': 2,\n",
       " '12': 3,\n",
       " '2': 4,\n",
       " '3': 5,\n",
       " '4': 6,\n",
       " '5': 7,\n",
       " '6': 8,\n",
       " '7': 9,\n",
       " '8': 10,\n",
       " '9': 11}"
      ]
     },
     "execution_count": 227,
     "metadata": {},
     "output_type": "execute_result"
    }
   ],
   "source": [
    "training_set.class_indices"
   ]
  },
  {
   "cell_type": "code",
   "execution_count": 253,
   "metadata": {},
   "outputs": [],
   "source": [
    "def determine_character(res, acc):\n",
    "    if res == 0:\n",
    "        print('prediction : अ ' + acc)\n",
    "        character.configure(text= '   अ,  ')\n",
    "        accuracy.configure(text=str(acc) + '%   ')\n",
    "#         txt.insert(tk.INSERT, \"{}\\nAccuracy: {}%\".format(\"अ\",acc))\n",
    "    elif res == 1:\n",
    "        character.configure(text= '   अ,  ')\n",
    "        accuracy.configure(text=str(acc) + '%   ')\n",
    "        print('prediction : औ ' + acc)\n",
    "#         txt.insert(tk.INSERT, \"{}\\nAccuracy: {}%\".format(\"अ\",acc))\n",
    "    elif res == 2:\n",
    "        character.configure(text= '   अ,  ')\n",
    "        accuracy.configure(text=str(acc) + '%   ')\n",
    "        print('prediction : अं ' + acc)\n",
    "#         txt.insert(tk.INSERT, \"{}\\nAccuracy: {}%\".format(\"अ\",acc))\n",
    "    elif res == 3:\n",
    "        character.configure(text= '   अ,  ')\n",
    "        accuracy.configure(text=str(acc) + '%   ')\n",
    "        print('prediction : अः ' + acc)\n",
    "#         txt.insert(tk.INSERT, \"{}\\nAccuracy: {}%\".format(\"अ\",acc))\n",
    "    elif res == 4:\n",
    "        character.configure(text= '   अ,  ')\n",
    "        accuracy.configure(text=str(acc) + '%   ')\n",
    "        print('prediction : आ ' + acc)\n",
    "#         txt.insert(tk.INSERT, \"{}\\nAccuracy: {}%\".format(\"अ\",acc))\n",
    "    elif res == 5:\n",
    "        character.configure(text= '   अ,  ')\n",
    "        accuracy.configure(text=str(acc) + '%   ')\n",
    "        print('prediction : इ ' + acc)\n",
    "#         txt.insert(tk.INSERT, \"{}\\nAccuracy: {}%\".format(\"अ\",acc))\n",
    "    elif res == 6:\n",
    "        character.configure(text= '   अ,  ')\n",
    "        accuracy.configure(text=str(acc) + '%   ')\n",
    "        print('prediction : ई ' + acc)\n",
    "#         txt.insert(tk.INSERT, \"{}\\nAccuracy: {}%\".format(\"अ\",acc))\n",
    "    elif res == 7:\n",
    "        character.configure(text= '   अ,  ')\n",
    "        accuracy.configure(text=str(acc) + '%   ')\n",
    "        print('prediction : औ ' + acc)\n",
    "#         txt.insert(tk.INSERT, \"{}\\nAccuracy: {}%\".format(\"अ\",acc))\n",
    "    elif res == 8:\n",
    "        character.configure(text= '   अ,  ')\n",
    "        accuracy.configure(text=str(acc) + '%   ')\n",
    "        print('prediction : ऊ ' + acc)\n",
    "#         txt.insert(tk.INSERT, \"{}\\nAccuracy: {}%\".format(\"अ\",acc))\n",
    "    elif res == 9:\n",
    "        character.configure(text= '   अ,  ')\n",
    "        accuracy.configure(text=str(acc) + '%   ')\n",
    "        print('prediction : ए ' + acc)\n",
    "#         txt.insert(tk.INSERT, \"{}\\nAccuracy: {}%\".format(\"अ\",acc))\n",
    "    elif res == 10:\n",
    "        character.configure(text= '   अ,  ')\n",
    "        accuracy.configure(text=str(acc) + '%   ')\n",
    "        print('prediction : ऐ ' + acc)\n",
    "#         txt.insert(tk.INSERT, \"{}\\nAccuracy: {}%\".format(\"अ\",acc))\n",
    "    elif res == 11:\n",
    "        character.configure(text= '   अ,  ')\n",
    "        accuracy.configure(text=str(acc) + '%   ')\n",
    "        print('prediction : ओ ' + acc)\n",
    "#         txt.insert(tk.INSERT, \"{}\\nAccuracy: {}%\".format(\"अ\",acc))\n",
    "#     elif res == 12:\n",
    "#         print('prediction : ड')\n",
    "#     elif res == 13:\n",
    "#         print('prediction : ढ')\n",
    "#     elif res == 14:\n",
    "#         print('prediction : ण')\n",
    "#     elif res == 15:\n",
    "#         print('prediction : त')\n",
    "#     elif res == 16:\n",
    "#         print('prediction : थ')\n",
    "#     elif res == 17:\n",
    "#         print('prediction : द')\n",
    "#     elif res == 18:\n",
    "#         print('prediction : ध')\n",
    "#     elif res == 19:\n",
    "#         print('prediction : न')\n",
    "#     elif res == 20:\n",
    "#         print('prediction : प')\n",
    "#     elif res == 21:\n",
    "#         print('prediction : फ')\n",
    "#     elif res == 22:\n",
    "#         print('prediction : ब')\n",
    "#     elif res == 23:\n",
    "#         print('prediction : भ')\n",
    "#     elif res == 24:\n",
    "#         print('prediction : म')\n",
    "#     elif res == 25:\n",
    "#         print('prediction : य')\n",
    "#     elif res == 26:\n",
    "#         print('prediction : र')\n",
    "#     elif res == 27:\n",
    "#         print('prediction : ल')\n",
    "#     elif res == 28:\n",
    "#         print('prediction : व')\n",
    "#     elif res == 29:\n",
    "#         print('prediction : श')\n",
    "#     elif res == 30:\n",
    "#         print('prediction : ष')\n",
    "#     elif res == 31:\n",
    "#         print('prediction : स')\n",
    "#     elif res == 32:\n",
    "#         print('prediction : ह')\n",
    "#     elif res == 33:\n",
    "#         print('prediction : क्ष')\n",
    "#     elif res == 34:\n",
    "#         print('prediction : त्र')\n",
    "#     elif res == 35:\n",
    "#         print('prediction : ज्ञ')\n",
    "#     elif res == 36:\n",
    "#         print('prediction : ०')\n",
    "#     elif res == 37:\n",
    "#         print('prediction : १')\n",
    "#     elif res == 38:\n",
    "#         print('prediction : २')\n",
    "#     elif res == 39:\n",
    "#         print('prediction : ३')\n",
    "#     elif res == 40:\n",
    "#         print('prediction : ४')\n",
    "#     elif res == 41:\n",
    "#         print('prediction : ५')\n",
    "#     elif res == 42:\n",
    "#         print('prediction : ६')\n",
    "#     elif res == 43:\n",
    "#         print('prediction : ७')\n",
    "#     elif res == 44:\n",
    "#         print('prediction : ८')\n",
    "#     elif res == 45:\n",
    "#         print('prediction : ९')"
   ]
  },
  {
   "cell_type": "code",
   "execution_count": 254,
   "metadata": {},
   "outputs": [
    {
     "name": "stdout",
     "output_type": "stream",
     "text": [
      "100.0\n",
      "prediction : औ 100.0\n",
      "53.451\n",
      "prediction : ऐ 53.451\n",
      "55.055\n",
      "prediction : औ 55.055\n"
     ]
    }
   ],
   "source": [
    "from PIL import ImageTk, Image, ImageDraw\n",
    "import PIL\n",
    "import tkinter as tk\n",
    "from tkinter import *\n",
    "\n",
    "width = 500\n",
    "height = 500\n",
    "center = height//2\n",
    "white = (255, 255, 255)\n",
    "green = (0,128,0)\n",
    "\n",
    "def paint(event):\n",
    "    x1, y1 = (event.x - 10), (event.y - 10)\n",
    "    x2, y2 = (event.x + 10), (event.y + 10)\n",
    "    cv.create_oval(x1, y1, x2, y2, fill=\"black\",width=40)\n",
    "    draw.line([x1, y1, x2, y2],fill=\"black\",width=40)\n",
    "    \n",
    "def model():\n",
    "    accuracy.configure(text=\"   Predicting...   \")\n",
    "    filename = 'C:/Users/peris/Documents/Devanagari Character Recognition - 2020/Dataset/SinglePrediction/image.jpg'\n",
    "    image1.save(filename)\n",
    "#     pred=testing()\n",
    "#     print('argmax',np.argmax(pred[0]),'\\n',\n",
    "#           pred[0][np.argmax(pred[0])],'\\n',classes[np.argmax(pred[0])])\n",
    "#     txt.insert(tk.INSERT,\"{}\\nAccuracy: {}%\".format(classes[np.argmax(pred[0])],round(pred[0][np.argmax(pred[0])]*100,3)))\n",
    "    \n",
    "    test_img = image.load_img('C:/Users/peris/Documents/Devanagari Character Recognition - 2020/Dataset/SinglePrediction/image.jpg', target_size = (40, 40, 3))\n",
    "    single_prediction(test_img)\n",
    "    \n",
    "def clear():\n",
    "    cv.delete('all')\n",
    "    delete_created_image()\n",
    "    draw.rectangle((0, 0, 500, 500), fill=(255, 255, 255, 0))\n",
    "#     txt.delete('1.0', END)\n",
    "    character.configure(text=\"\")\n",
    "    accuracy.configure(text=\"      Draw      \")\n",
    "\n",
    "root = Tk()\n",
    "##root.geometry('1000x500') \n",
    "\n",
    "root.resizable(0,0)\n",
    "cv = Canvas(root, width=width, height=height, bg='white')\n",
    "# cv.pack()\n",
    "\n",
    "# PIL create an empty image and draw object to draw on\n",
    "# memory only, not visible\n",
    "image1 = PIL.Image.new(\"RGB\", (width, height), white)\n",
    "draw = ImageDraw.Draw(image1)\n",
    "\n",
    "\n",
    "# txt=tk.Text(root,bd=3,exportselection=0,bg='WHITE',font='Helvetica',\n",
    "#             padx=10,pady=10,height=5,width=20)\n",
    "\n",
    "# cv.pack(expand=YES, fill=BOTH)\n",
    "cv.bind(\"<B1-Motion>\", paint)\n",
    "\n",
    "##button=Button(text=\"save\",command=save)\n",
    "\n",
    "##button.pack()\n",
    "# btnModel.pack()\n",
    "# btnClear.pack()\n",
    "# txt.pack()\n",
    "cv.grid(row=0, column=0, pady=2, sticky=W, )\n",
    "\n",
    "character = tk.Label(root, text=\"\", font=(\"Helvetica\", 70))\n",
    "character.grid(row=0, column=1,pady=2, padx=2)\n",
    "accuracy = tk.Label(root, text=\"      Draw      \", font=(\"Helvetica\", 38))\n",
    "accuracy.grid(row=0, column=2,pady=2, padx=2)\n",
    "\n",
    "btnPredict=tk.Button(text=\"Predict\",command=model, height=2, width=30)\n",
    "\n",
    "btnPredict.grid(row=1, column=2, pady=2, padx=5)\n",
    "\n",
    "btnClear=tk.Button(text=\"clear\",command=clear, height=2, width=30)\n",
    "\n",
    "btnClear.grid(row=1, column=0, pady=2)\n",
    "\n",
    "# label.pack()\n",
    "root.title('Devanagari Character Recognition')\n",
    "root.mainloop()"
   ]
  },
  {
   "cell_type": "code",
   "execution_count": 255,
   "metadata": {},
   "outputs": [],
   "source": [
    "import numpy as np\n",
    "\n",
    "def single_prediction(test_img):\n",
    "    test_img_arr = image.img_to_array(test_img)\n",
    "    \n",
    "    test_img_arr = np.expand_dims(test_img_arr, axis = 0)\n",
    "#     accuracy = classifier.predict(test_img_arr)[0]\n",
    "    prediction = classifier.predict(test_img_arr)\n",
    "    \n",
    "    result = np.argmax(prediction, axis = 1)\n",
    "    acc = round(prediction[0][np.argmax(prediction[0])]*100,3)\n",
    "    \n",
    "    print(acc)\n",
    "    determine_character(result, str(acc))"
   ]
  },
  {
   "cell_type": "code",
   "execution_count": 230,
   "metadata": {},
   "outputs": [],
   "source": [
    "#test"
   ]
  },
  {
   "cell_type": "code",
   "execution_count": 231,
   "metadata": {},
   "outputs": [],
   "source": [
    "# new_model = tf.kerasload_model(\"CNN_DevanagariHandWrittenCharacterRecognition.h5\")\n",
    "\n",
    "# predictions = new_model.predict(x_test)"
   ]
  },
  {
   "cell_type": "code",
   "execution_count": 232,
   "metadata": {},
   "outputs": [],
   "source": [
    "def delete_created_image():\n",
    "    os.remove('C:/Users/peris/Documents/Devanagari Character Recognition - 2020/Dataset/SinglePrediction/image.jpg')"
   ]
  },
  {
   "cell_type": "code",
   "execution_count": 233,
   "metadata": {},
   "outputs": [],
   "source": [
    "import matplotlib.pyplot as plt\n",
    "\n",
    "def draw_n_guess_the_character():\n",
    "    create_new_image()\n",
    "#     test_img = ImageOps.invert(image.load_img('C:/Users/peris/Documents/Devanagari Character Recognition - 2020/Dataset/SinglePrediction/image.png', target_size = (40, 40, 3)))\n",
    "    test_img = image.load_img('C:/Users/peris/Documents/Devanagari Character Recognition - 2020/Dataset/SinglePrediction/image.jpg', target_size = (40, 40, 3))\n",
    "    single_prediction(test_img)\n",
    "    plt.imshow(test_img)\n",
    "#     delete_created_image()"
   ]
  },
  {
   "cell_type": "code",
   "execution_count": 234,
   "metadata": {},
   "outputs": [],
   "source": [
    "# draw_n_guess_the_character()"
   ]
  },
  {
   "cell_type": "code",
   "execution_count": 251,
   "metadata": {},
   "outputs": [
    {
     "name": "stdout",
     "output_type": "stream",
     "text": [
      "97.093\n"
     ]
    },
    {
     "name": "stderr",
     "output_type": "stream",
     "text": [
      "Exception in Tkinter callback\n",
      "Traceback (most recent call last):\n",
      "  File \"C:\\Users\\peris\\anaconda3\\envs\\221710308043\\lib\\tkinter\\__init__.py\", line 1705, in __call__\n",
      "    return self.func(*args)\n",
      "  File \"<ipython-input-251-75c6ad57cf27>\", line 28, in model\n",
      "    single_prediction(test_img)\n",
      "  File \"<ipython-input-229-fa1c6d8e5b62>\", line 14, in single_prediction\n",
      "    determine_character(result, str(acc))\n",
      "  File \"<ipython-input-228-c4a26fa417af>\", line 19, in determine_character\n",
      "    label.configure(text= 'अ , '+ str(acc))\n",
      "  File \"C:\\Users\\peris\\anaconda3\\envs\\221710308043\\lib\\tkinter\\__init__.py\", line 1485, in configure\n",
      "    return self._configure('configure', cnf, kw)\n",
      "  File \"C:\\Users\\peris\\anaconda3\\envs\\221710308043\\lib\\tkinter\\__init__.py\", line 1476, in _configure\n",
      "    self.tk.call(_flatten((self._w, cmd)) + self._options(cnf))\n",
      "_tkinter.TclError: invalid command name \".!label\"\n"
     ]
    }
   ],
   "source": [
    "from PIL import ImageTk, Image, ImageDraw\n",
    "import PIL\n",
    "import tkinter as tk\n",
    "from tkinter import *\n",
    "\n",
    "width = 500\n",
    "height = 500\n",
    "center = height//2\n",
    "white = (255, 255, 255)\n",
    "green = (0,128,0)\n",
    "\n",
    "def paint(event):\n",
    "    x1, y1 = (event.x - 10), (event.y - 10)\n",
    "    x2, y2 = (event.x + 10), (event.y + 10)\n",
    "    cv.create_oval(x1, y1, x2, y2, fill=\"black\",width=40)\n",
    "    draw.line([x1, y1, x2, y2],fill=\"black\",width=40)\n",
    "    \n",
    "def model():\n",
    "    accuracy.configure(text=\"   Predicting...   \")\n",
    "    filename = 'C:/Users/peris/Documents/Devanagari Character Recognition - 2020/Dataset/SinglePrediction/image.jpg'\n",
    "    image1.save(filename)\n",
    "#     pred=testing()\n",
    "#     print('argmax',np.argmax(pred[0]),'\\n',\n",
    "#           pred[0][np.argmax(pred[0])],'\\n',classes[np.argmax(pred[0])])\n",
    "#     txt.insert(tk.INSERT,\"{}\\nAccuracy: {}%\".format(classes[np.argmax(pred[0])],round(pred[0][np.argmax(pred[0])]*100,3)))\n",
    "    \n",
    "    test_img = image.load_img('C:/Users/peris/Documents/Devanagari Character Recognition - 2020/Dataset/SinglePrediction/image.jpg', target_size = (40, 40, 3))\n",
    "    single_prediction(test_img)\n",
    "    \n",
    "def clear():\n",
    "    cv.delete('all')\n",
    "    delete_created_image\n",
    "    draw.rectangle((0, 0, 500, 500), fill=(255, 255, 255, 0))\n",
    "#     txt.delete('1.0', END)\n",
    "    character.configure(text=\"\")\n",
    "    accuracy.configure(text=\"      Draw      \")\n",
    "\n",
    "root = Tk()\n",
    "##root.geometry('1000x500') \n",
    "\n",
    "root.resizable(0,0)\n",
    "cv = Canvas(root, width=width, height=height, bg='white')\n",
    "# cv.pack()\n",
    "\n",
    "# PIL create an empty image and draw object to draw on\n",
    "# memory only, not visible\n",
    "image1 = PIL.Image.new(\"RGB\", (width, height), white)\n",
    "draw = ImageDraw.Draw(image1)\n",
    "\n",
    "\n",
    "# txt=tk.Text(root,bd=3,exportselection=0,bg='WHITE',font='Helvetica',\n",
    "#             padx=10,pady=10,height=5,width=20)\n",
    "\n",
    "# cv.pack(expand=YES, fill=BOTH)\n",
    "cv.bind(\"<B1-Motion>\", paint)\n",
    "\n",
    "##button=Button(text=\"save\",command=save)\n",
    "\n",
    "##button.pack()\n",
    "# btnModel.pack()\n",
    "# btnClear.pack()\n",
    "# txt.pack()\n",
    "cv.grid(row=0, column=0, pady=2, sticky=W, )\n",
    "\n",
    "character = tk.Label(root, text=\"\", font=(\"Helvetica\", 70))\n",
    "character.grid(row=0, column=1,pady=2, padx=2)\n",
    "accuracy = tk.Label(root, text=\"      Draw      \", font=(\"Helvetica\", 38))\n",
    "accuracy.grid(row=0, column=2,pady=2, padx=2)\n",
    "\n",
    "btnPredict=tk.Button(text=\"Predict\",command=model, height=2, width=30)\n",
    "\n",
    "btnPredict.grid(row=1, column=2, pady=2, padx=5)\n",
    "\n",
    "btnClear=tk.Button(text=\"clear\",command=clear, height=2, width=30)\n",
    "\n",
    "btnClear.grid(row=1, column=0, pady=2)\n",
    "\n",
    "# label.pack()\n",
    "root.title('Devanagari Character Recognition')\n",
    "root.mainloop()"
   ]
  },
  {
   "cell_type": "code",
   "execution_count": null,
   "metadata": {},
   "outputs": [],
   "source": []
  },
  {
   "cell_type": "code",
   "execution_count": null,
   "metadata": {},
   "outputs": [],
   "source": []
  },
  {
   "cell_type": "code",
   "execution_count": null,
   "metadata": {},
   "outputs": [],
   "source": []
  }
 ],
 "metadata": {
  "kernelspec": {
   "display_name": "221710308043",
   "language": "python",
   "name": "221710308043"
  },
  "language_info": {
   "codemirror_mode": {
    "name": "ipython",
    "version": 3
   },
   "file_extension": ".py",
   "mimetype": "text/x-python",
   "name": "python",
   "nbconvert_exporter": "python",
   "pygments_lexer": "ipython3",
   "version": "3.7.8"
  }
 },
 "nbformat": 4,
 "nbformat_minor": 4
}
