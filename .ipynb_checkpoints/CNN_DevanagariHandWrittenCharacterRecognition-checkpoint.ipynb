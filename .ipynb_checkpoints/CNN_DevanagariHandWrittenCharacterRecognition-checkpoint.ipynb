{
 "cells": [
  {
   "cell_type": "markdown",
   "metadata": {},
   "source": [
    "## Checking for GPU"
   ]
  },
  {
   "cell_type": "code",
   "execution_count": 1,
   "metadata": {},
   "outputs": [
    {
     "name": "stdout",
     "output_type": "stream",
     "text": [
      "TensorFlow Version: 2.1.0\n",
      "Default GPU Device: /device:GPU:0\n"
     ]
    }
   ],
   "source": [
    "from distutils.version import LooseVersion\n",
    "import warnings\n",
    "import tensorflow as tf\n",
    "\n",
    "# Check TensorFlow Version\n",
    "assert LooseVersion(tf.__version__) >= LooseVersion('1.0'), 'Please use TensorFlow version 1.0 or newer.  You are using {}'.format(tf.__version__)\n",
    "print('TensorFlow Version: {}'.format(tf.__version__))\n",
    "\n",
    "# Check for a GPU\n",
    "if not tf.test.gpu_device_name():\n",
    "    warnings.warn('No GPU found. Please ensure you have installed TensorFlow correctly')\n",
    "else:\n",
    "    print('Default GPU Device: {}'.format(tf.test.gpu_device_name()))"
   ]
  },
  {
   "cell_type": "markdown",
   "metadata": {},
   "source": [
    "## Creating the CNN model"
   ]
  },
  {
   "cell_type": "code",
   "execution_count": 2,
   "metadata": {},
   "outputs": [
    {
     "name": "stderr",
     "output_type": "stream",
     "text": [
      "Using TensorFlow backend.\n"
     ]
    }
   ],
   "source": [
    "from keras.models import Sequential\n",
    "from keras.layers import Conv2D, MaxPooling2D, Flatten, Dense, Dropout"
   ]
  },
  {
   "cell_type": "code",
   "execution_count": 3,
   "metadata": {},
   "outputs": [],
   "source": [
    "classifier = Sequential()\n",
    "\n",
    "classifier.add(Conv2D(filters = 32, kernel_size = (3, 3), activation = 'relu', input_shape = (32, 32, 3)))\n",
    "classifier.add(Conv2D(filters = 64, kernel_size = (3, 3), activation = 'relu'))\n",
    "classifier.add(MaxPooling2D(pool_size = (2, 2)))\n",
    "classifier.add(Conv2D(filters = 64, kernel_size = (3, 3), activation = 'relu'))\n",
    "classifier.add(Conv2D(filters = 64, kernel_size = (3, 3), activation = 'relu'))\n",
    "classifier.add(MaxPooling2D(pool_size = (2, 2)))\n",
    "classifier.add(Dropout(.2))\n",
    "\n",
    "classifier.add(Flatten())\n",
    "\n",
    "classifier.add(Dense(units = 128, activation = 'relu'))\n",
    "classifier.add(Dropout(.2))\n",
    "\n",
    "classifier.add(Dense(units = 46, activation = 'softmax'))\n",
    "\n",
    "classifier.compile(optimizer = 'adam', loss = 'categorical_crossentropy', metrics = ['accuracy'])"
   ]
  },
  {
   "cell_type": "markdown",
   "metadata": {},
   "source": [
    "## Fitting the CNN model to the Dataset"
   ]
  },
  {
   "cell_type": "code",
   "execution_count": 10,
   "metadata": {},
   "outputs": [],
   "source": [
    "from keras.preprocessing.image import ImageDataGenerator\n",
    "from PIL import ImageFile"
   ]
  },
  {
   "cell_type": "code",
   "execution_count": 11,
   "metadata": {},
   "outputs": [
    {
     "name": "stdout",
     "output_type": "stream",
     "text": [
      "Found 46000 images belonging to 46 classes.\n",
      "Found 11500 images belonging to 46 classes.\n"
     ]
    }
   ],
   "source": [
    "ImageFile.LOAD_TRUNCATED_IMAGES = True\n",
    "\n",
    "train_datagen = ImageDataGenerator(rescale = 1/255, shear_range = .2, rotation_range = 25)\n",
    "test_datagen = ImageDataGenerator(rescale = 1/255)\n",
    "\n",
    "training_set = train_datagen.flow_from_directory('Dataset/Train', target_size = (32, 32), \n",
    "                                                 batch_size = 256, class_mode = 'categorical')\n",
    "test_set = test_datagen.flow_from_directory('Dataset/Test', target_size = (32, 32), \n",
    "                                                 batch_size = 256, class_mode = 'categorical')"
   ]
  },
  {
   "cell_type": "code",
   "execution_count": 12,
   "metadata": {},
   "outputs": [
    {
     "name": "stdout",
     "output_type": "stream",
     "text": [
      "Epoch 1/25\n",
      "180/180 [==============================] - 43s 237ms/step - loss: 1.5651 - accuracy: 0.5728 - val_loss: 1.2994 - val_accuracy: 0.6206\n",
      "Epoch 2/25\n",
      "180/180 [==============================] - 32s 177ms/step - loss: 0.4508 - accuracy: 0.8658 - val_loss: 1.1040 - val_accuracy: 0.6848\n",
      "Epoch 3/25\n",
      "180/180 [==============================] - 32s 177ms/step - loss: 0.2857 - accuracy: 0.9130 - val_loss: 0.8683 - val_accuracy: 0.7490\n",
      "Epoch 4/25\n",
      "180/180 [==============================] - 32s 179ms/step - loss: 0.2136 - accuracy: 0.9352 - val_loss: 0.8097 - val_accuracy: 0.7730\n",
      "Epoch 5/25\n",
      "180/180 [==============================] - 34s 186ms/step - loss: 0.1670 - accuracy: 0.9484 - val_loss: 0.8417 - val_accuracy: 0.7647\n",
      "Epoch 6/25\n",
      "180/180 [==============================] - 32s 178ms/step - loss: 0.1466 - accuracy: 0.9537 - val_loss: 0.7611 - val_accuracy: 0.7879\n",
      "Epoch 7/25\n",
      "180/180 [==============================] - 30s 165ms/step - loss: 0.1223 - accuracy: 0.9612 - val_loss: 1.0540 - val_accuracy: 0.7996\n",
      "Epoch 8/25\n",
      "180/180 [==============================] - 29s 163ms/step - loss: 0.1104 - accuracy: 0.9653 - val_loss: 0.7448 - val_accuracy: 0.7958\n",
      "Epoch 9/25\n",
      "180/180 [==============================] - 30s 165ms/step - loss: 0.1025 - accuracy: 0.9674 - val_loss: 0.9603 - val_accuracy: 0.7967\n",
      "Epoch 10/25\n",
      "180/180 [==============================] - 30s 169ms/step - loss: 0.0951 - accuracy: 0.9703 - val_loss: 0.7426 - val_accuracy: 0.8188\n",
      "Epoch 11/25\n",
      "180/180 [==============================] - 30s 164ms/step - loss: 0.0879 - accuracy: 0.9723 - val_loss: 0.5821 - val_accuracy: 0.8183\n",
      "Epoch 12/25\n",
      "180/180 [==============================] - 30s 165ms/step - loss: 0.0808 - accuracy: 0.9744 - val_loss: 0.6411 - val_accuracy: 0.8143\n",
      "Epoch 13/25\n",
      "180/180 [==============================] - 30s 165ms/step - loss: 0.0735 - accuracy: 0.9760 - val_loss: 0.7178 - val_accuracy: 0.8154\n",
      "Epoch 14/25\n",
      "180/180 [==============================] - 29s 163ms/step - loss: 0.0698 - accuracy: 0.9778 - val_loss: 1.0805 - val_accuracy: 0.7671\n",
      "Epoch 15/25\n",
      "180/180 [==============================] - 29s 164ms/step - loss: 0.0682 - accuracy: 0.9777 - val_loss: 0.6519 - val_accuracy: 0.8239\n",
      "Epoch 16/25\n",
      "180/180 [==============================] - 30s 166ms/step - loss: 0.0636 - accuracy: 0.9800 - val_loss: 0.7566 - val_accuracy: 0.8290\n",
      "Epoch 17/25\n",
      "180/180 [==============================] - 42s 235ms/step - loss: 0.0630 - accuracy: 0.9799 - val_loss: 1.0079 - val_accuracy: 0.7914\n",
      "Epoch 18/25\n",
      "180/180 [==============================] - 35s 195ms/step - loss: 0.0595 - accuracy: 0.9808 - val_loss: 0.8977 - val_accuracy: 0.8071\n",
      "Epoch 19/25\n",
      "180/180 [==============================] - 35s 196ms/step - loss: 0.0518 - accuracy: 0.9828 - val_loss: 1.0555 - val_accuracy: 0.8130\n",
      "Epoch 20/25\n",
      "180/180 [==============================] - 31s 170ms/step - loss: 0.0539 - accuracy: 0.9825 - val_loss: 1.1199 - val_accuracy: 0.8157\n",
      "Epoch 21/25\n",
      "180/180 [==============================] - 30s 167ms/step - loss: 0.0480 - accuracy: 0.9843 - val_loss: 1.0191 - val_accuracy: 0.8158\n",
      "Epoch 22/25\n",
      "180/180 [==============================] - 30s 166ms/step - loss: 0.0493 - accuracy: 0.9837 - val_loss: 0.6191 - val_accuracy: 0.8418\n",
      "Epoch 23/25\n",
      "180/180 [==============================] - 29s 163ms/step - loss: 0.0483 - accuracy: 0.9840 - val_loss: 0.6825 - val_accuracy: 0.8530\n",
      "Epoch 24/25\n",
      "180/180 [==============================] - 29s 163ms/step - loss: 0.0455 - accuracy: 0.9857 - val_loss: 0.8375 - val_accuracy: 0.8497\n",
      "Epoch 25/25\n",
      "180/180 [==============================] - 29s 163ms/step - loss: 0.0463 - accuracy: 0.9845 - val_loss: 0.6924 - val_accuracy: 0.8458\n"
     ]
    }
   ],
   "source": [
    "history = classifier.fit(training_set, epochs = 25,\n",
    "                        validation_data = test_set)"
   ]
  },
  {
   "cell_type": "markdown",
   "metadata": {},
   "source": [
    "## Summary of Network"
   ]
  },
  {
   "cell_type": "code",
   "execution_count": 13,
   "metadata": {
    "scrolled": false
   },
   "outputs": [
    {
     "name": "stdout",
     "output_type": "stream",
     "text": [
      "Model: \"sequential_2\"\n",
      "_________________________________________________________________\n",
      "Layer (type)                 Output Shape              Param #   \n",
      "=================================================================\n",
      "conv2d_5 (Conv2D)            (None, 30, 30, 32)        896       \n",
      "_________________________________________________________________\n",
      "conv2d_6 (Conv2D)            (None, 28, 28, 64)        18496     \n",
      "_________________________________________________________________\n",
      "max_pooling2d_3 (MaxPooling2 (None, 14, 14, 64)        0         \n",
      "_________________________________________________________________\n",
      "conv2d_7 (Conv2D)            (None, 12, 12, 64)        36928     \n",
      "_________________________________________________________________\n",
      "conv2d_8 (Conv2D)            (None, 10, 10, 64)        36928     \n",
      "_________________________________________________________________\n",
      "max_pooling2d_4 (MaxPooling2 (None, 5, 5, 64)          0         \n",
      "_________________________________________________________________\n",
      "dropout_3 (Dropout)          (None, 5, 5, 64)          0         \n",
      "_________________________________________________________________\n",
      "flatten_2 (Flatten)          (None, 1600)              0         \n",
      "_________________________________________________________________\n",
      "dense_3 (Dense)              (None, 128)               204928    \n",
      "_________________________________________________________________\n",
      "dropout_4 (Dropout)          (None, 128)               0         \n",
      "_________________________________________________________________\n",
      "dense_4 (Dense)              (None, 46)                5934      \n",
      "=================================================================\n",
      "Total params: 304,110\n",
      "Trainable params: 304,110\n",
      "Non-trainable params: 0\n",
      "_________________________________________________________________\n"
     ]
    }
   ],
   "source": [
    "classifier.summary()"
   ]
  },
  {
   "cell_type": "markdown",
   "metadata": {},
   "source": [
    "## Accuracy"
   ]
  },
  {
   "cell_type": "code",
   "execution_count": 14,
   "metadata": {},
   "outputs": [
    {
     "name": "stdout",
     "output_type": "stream",
     "text": [
      "180/180 [==============================] - 27s 152ms/step\n",
      "Accuracy: 99.70%\n"
     ]
    }
   ],
   "source": [
    "scores = classifier.evaluate(training_set)\n",
    "print(\"Accuracy: %.2f%%\" % (scores[1]*100))"
   ]
  },
  {
   "cell_type": "code",
   "execution_count": 15,
   "metadata": {},
   "outputs": [
    {
     "data": {
      "image/png": "[encoded data removed]",
      "text/plain": [
       "<Figure size 432x288 with 1 Axes>"
      ]
     },
     "metadata": {
      "needs_background": "light"
     },
     "output_type": "display_data"
    },
    {
     "data": {
      "image/png": "[encoded data removed]",
      "text/plain": [
       "<Figure size 432x288 with 1 Axes>"
      ]
     },
     "metadata": {
      "needs_background": "light"
     },
     "output_type": "display_data"
    }
   ],
   "source": [
    "# summarize history for accuracy\n",
    "plt.plot(history.history['accuracy'])\n",
    "plt.plot(history.history['val_accuracy'])\n",
    "plt.title('model accuracy')\n",
    "plt.ylabel('accuracy')\n",
    "plt.xlabel('epoch')\n",
    "plt.legend(['train', 'test'], loc='upper left')\n",
    "plt.show()\n",
    "# summarize history for loss\n",
    "plt.plot(history.history['loss'])\n",
    "plt.plot(history.history['val_loss'])\n",
    "plt.title('model loss')\n",
    "plt.ylabel('loss')\n",
    "plt.xlabel('epoch')\n",
    "plt.legend(['train', 'test'], loc='upper left')\n",
    "plt.show()"
   ]
  },
  {
   "cell_type": "code",
   "execution_count": null,
   "metadata": {},
   "outputs": [],
   "source": []
  },
  {
   "cell_type": "markdown",
   "metadata": {},
   "source": [
    "## Saving the model"
   ]
  },
  {
   "cell_type": "code",
   "execution_count": 9,
   "metadata": {
    "scrolled": true
   },
   "outputs": [
    {
     "name": "stdout",
     "output_type": "stream",
     "text": [
      "Saved model to disk\n"
     ]
    }
   ],
   "source": [
    "classifier_json = classifier.to_json()\n",
    "\n",
    "with open(\"CNN_DevanagariHandWrittenCharacterRecognition.json\", \"w\") as json_file:\n",
    "    json_file.write(classifier_json)\n",
    "    \n",
    "classifier.save_weights(\"CNN_DevanagariHandWrittenCharacterRecognition.h5\")\n",
    "print('Saved model to disk')"
   ]
  },
  {
   "cell_type": "markdown",
   "metadata": {},
   "source": [
    "## Checking the data labels predicted"
   ]
  },
  {
   "cell_type": "code",
   "execution_count": 10,
   "metadata": {},
   "outputs": [
    {
     "data": {
      "text/plain": [
       "{'character_01_ka': 0,\n",
       " 'character_02_kha': 1,\n",
       " 'character_03_ga': 2,\n",
       " 'character_04_gha': 3,\n",
       " 'character_05_kna': 4,\n",
       " 'character_06_cha': 5,\n",
       " 'character_07_chha': 6,\n",
       " 'character_08_ja': 7,\n",
       " 'character_09_jha': 8,\n",
       " 'character_10_yna': 9,\n",
       " 'character_11_taamatar': 10,\n",
       " 'character_12_thaa': 11,\n",
       " 'character_13_daa': 12,\n",
       " 'character_14_dhaa': 13,\n",
       " 'character_15_adna': 14,\n",
       " 'character_16_tabala': 15,\n",
       " 'character_17_tha': 16,\n",
       " 'character_18_da': 17,\n",
       " 'character_19_dha': 18,\n",
       " 'character_20_na': 19,\n",
       " 'character_21_pa': 20,\n",
       " 'character_22_pha': 21,\n",
       " 'character_23_ba': 22,\n",
       " 'character_24_bha': 23,\n",
       " 'character_25_ma': 24,\n",
       " 'character_26_yaw': 25,\n",
       " 'character_27_ra': 26,\n",
       " 'character_28_la': 27,\n",
       " 'character_29_waw': 28,\n",
       " 'character_30_motosaw': 29,\n",
       " 'character_31_petchiryakha': 30,\n",
       " 'character_32_patalosaw': 31,\n",
       " 'character_33_ha': 32,\n",
       " 'character_34_chhya': 33,\n",
       " 'character_35_tra': 34,\n",
       " 'character_36_gya': 35,\n",
       " 'digit_0': 36,\n",
       " 'digit_1': 37,\n",
       " 'digit_2': 38,\n",
       " 'digit_3': 39,\n",
       " 'digit_4': 40,\n",
       " 'digit_5': 41,\n",
       " 'digit_6': 42,\n",
       " 'digit_7': 43,\n",
       " 'digit_8': 44,\n",
       " 'digit_9': 45}"
      ]
     },
     "execution_count": 10,
     "metadata": {},
     "output_type": "execute_result"
    }
   ],
   "source": [
    "training_set.class_indices"
   ]
  },
  {
   "cell_type": "markdown",
   "metadata": {},
   "source": [
    "## Creating a graphical user interface to draw the character"
   ]
  },
  {
   "cell_type": "code",
   "execution_count": 4,
   "metadata": {},
   "outputs": [],
   "source": [
    "import PIL\n",
    "from PIL import ImageTk, ImageDraw, Image, ImageOps\n",
    "from tkinter import *\n",
    "from keras.preprocessing import image\n",
    "import os"
   ]
  },
  {
   "cell_type": "markdown",
   "metadata": {},
   "source": [
    "### Function to determine the character according to the max value predicted in the numpy array"
   ]
  },
  {
   "cell_type": "code",
   "execution_count": 5,
   "metadata": {},
   "outputs": [],
   "source": [
    "def determine_character(res,acc):\n",
    "    print(res)\n",
    "    if res == 0:\n",
    "        print('prediction : क')\n",
    "        character.configure(text= 'क,')\n",
    "        accuracy.configure(text=str(acc) + '%')\n",
    "    elif res == 1:\n",
    "        print('prediction : ख')\n",
    "        character.configure(text= 'ख,')\n",
    "        accuracy.configure(text=str(acc) + '%')\n",
    "    \n",
    "    elif res == 2:\n",
    "        print('prediction : ग')\n",
    "        character.configure(text= 'ग,')\n",
    "        accuracy.configure(text=str(acc) + '%')\n",
    "    \n",
    "    elif res == 3:\n",
    "        print('prediction : घ')\n",
    "        character.configure(text= 'घ,')\n",
    "        accuracy.configure(text=str(acc) + '%')        \n",
    "\n",
    "    elif res == 4:\n",
    "        print('prediction : ङ')\n",
    "        character.configure(text= 'ङ,')\n",
    "        accuracy.configure(text=str(acc) + '%')\n",
    "        \n",
    "    elif res == 5:\n",
    "        print('prediction : च')\n",
    "        character.configure(text= 'च,')\n",
    "        accuracy.configure(text=str(acc) + '%')\n",
    "    \n",
    "    elif res == 6:\n",
    "        print('prediction : छ')\n",
    "        character.configure(text= 'छ,')\n",
    "        accuracy.configure(text=str(acc) + '%')\n",
    "        \n",
    "    elif res == 7:\n",
    "        print('prediction : ज')\n",
    "        character.configure(text= 'ज,')\n",
    "        accuracy.configure(text=str(acc) + '%')\n",
    "        \n",
    "    elif res == 8:\n",
    "        print('prediction : झ')\n",
    "        character.configure(text= 'झ,')\n",
    "        accuracy.configure(text=str(acc) + '%')\n",
    "        \n",
    "    elif res == 9:\n",
    "        print('prediction : ञ')\n",
    "        character.configure(text= 'ञ,')\n",
    "        accuracy.configure(text=str(acc) + '%')\n",
    "        \n",
    "    elif res == 10:\n",
    "        print('prediction : ट')\n",
    "        character.configure(text= 'ट,')\n",
    "        accuracy.configure(text=str(acc) + '%')\n",
    "        \n",
    "    elif res == 11:\n",
    "        print('prediction : ठ')\n",
    "        character.configure(text= 'ठ,')\n",
    "        accuracy.configure(text=str(acc) + '%')\n",
    "        \n",
    "    elif res == 12:\n",
    "        print('prediction : ड')\n",
    "        character.configure(text= 'ड,')\n",
    "        accuracy.configure(text=str(acc) + '%')\n",
    "        \n",
    "    elif res == 13:\n",
    "        print('prediction : ढ')\n",
    "        character.configure(text= 'ढ,')\n",
    "        accuracy.configure(text=str(acc) + '%')    \n",
    "    \n",
    "    elif res == 14:\n",
    "        print('prediction : ण')\n",
    "        character.configure(text= 'ण,')\n",
    "        accuracy.configure(text=str(acc) + '%')\n",
    "        \n",
    "    elif res == 15:\n",
    "        print('prediction : त')\n",
    "        character.configure(text= 'त,')\n",
    "        accuracy.configure(text=str(acc) + '%')\n",
    "        \n",
    "    elif res == 16:\n",
    "        print('prediction : थ')\n",
    "        character.configure(text= 'थ,')\n",
    "        accuracy.configure(text=str(acc) + '%')        \n",
    "        \n",
    "    elif res == 17:\n",
    "        print('prediction : द')\n",
    "        character.configure(text= 'द,')\n",
    "        accuracy.configure(text=str(acc) + '%')        \n",
    "        \n",
    "    elif res == 18:\n",
    "        print('prediction : ध')\n",
    "        character.configure(text= 'ध,')\n",
    "        accuracy.configure(text=str(acc) + '%')        \n",
    "        \n",
    "    elif res == 19:\n",
    "        print('prediction : न')\n",
    "        character.configure(text= 'न,')\n",
    "        accuracy.configure(text=str(acc) + '%')        \n",
    "        \n",
    "    elif res == 20:\n",
    "        print('prediction : प')\n",
    "        character.configure(text= 'प,')\n",
    "        accuracy.configure(text=str(acc) + '%')        \n",
    "        \n",
    "    elif res == 21:\n",
    "        print('prediction : फ')\n",
    "        character.configure(text= 'फ,')\n",
    "        accuracy.configure(text=str(acc) + '%')        \n",
    "        \n",
    "    elif res == 22:\n",
    "        print('prediction : ब')\n",
    "        character.configure(text= 'ब,')\n",
    "        accuracy.configure(text=str(acc) + '%')           \n",
    "        \n",
    "    elif res == 23:\n",
    "        print('prediction : भ')\n",
    "        character.configure(text= 'भ,')\n",
    "        accuracy.configure(text=str(acc) + '%')           \n",
    "        \n",
    "    elif res == 24:\n",
    "        print('prediction : म')\n",
    "        character.configure(text= 'म,')\n",
    "        accuracy.configure(text=str(acc) + '%')           \n",
    "        \n",
    "    elif res == 25:\n",
    "        print('prediction : य')\n",
    "        character.configure(text= 'य,')\n",
    "        accuracy.configure(text=str(acc) + '%')           \n",
    "        \n",
    "    elif res == 26:\n",
    "        print('prediction : र')\n",
    "        character.configure(text= 'र,')\n",
    "        accuracy.configure(text=str(acc) + '%')           \n",
    "        \n",
    "    elif res == 27:\n",
    "        print('prediction : ल')\n",
    "        character.configure(text= 'ल,')\n",
    "        accuracy.configure(text=str(acc) + '%')           \n",
    "        \n",
    "    elif res == 28:\n",
    "        print('prediction : व')\n",
    "        character.configure(text= 'व,')\n",
    "        accuracy.configure(text=str(acc) + '%')           \n",
    "        \n",
    "    elif res == 29:\n",
    "        print('prediction : श')\n",
    "        character.configure(text= 'श,')\n",
    "        accuracy.configure(text=str(acc) + '%')           \n",
    "        \n",
    "    elif res == 30:\n",
    "        print('prediction : ष')\n",
    "        character.configure(text= 'ष,')\n",
    "        accuracy.configure(text=str(acc) + '%')           \n",
    "        \n",
    "    elif res == 31:\n",
    "        print('prediction : स')\n",
    "        character.configure(text= 'स,')\n",
    "        accuracy.configure(text=str(acc) + '%')           \n",
    "        \n",
    "    elif res == 32:\n",
    "        print('prediction : ह')\n",
    "        character.configure(text= 'ह,')\n",
    "        accuracy.configure(text=str(acc) + '%')           \n",
    "        \n",
    "    elif res == 33:\n",
    "        print('prediction : क्ष')\n",
    "        character.configure(text= 'क्ष,')\n",
    "        accuracy.configure(text=str(acc) + '%')           \n",
    "        \n",
    "    elif res == 34:\n",
    "        print('prediction : त्र')\n",
    "        character.configure(text= 'त्र,')\n",
    "        accuracy.configure(text=str(acc) + '%')           \n",
    "        \n",
    "    elif res == 35:\n",
    "        print('prediction : ज्ञ')\n",
    "        character.configure(text= 'ज्ञ,')\n",
    "        accuracy.configure(text=str(acc) + '%')           \n",
    "        \n",
    "    elif res == 36:\n",
    "        print('prediction : ०')\n",
    "        character.configure(text= '०,')\n",
    "        accuracy.configure(text=str(acc) + '%')           \n",
    "        \n",
    "    elif res == 37:\n",
    "        print('prediction : १')\n",
    "        character.configure(text= '१,')\n",
    "        accuracy.configure(text=str(acc) + '%')           \n",
    "        \n",
    "    elif res == 38:\n",
    "        print('prediction : २')\n",
    "        character.configure(text= '२,')\n",
    "        accuracy.configure(text=str(acc) + '%')           \n",
    "        \n",
    "    elif res == 39:\n",
    "        print('prediction : ३')\n",
    "        character.configure(text= '३,')\n",
    "        accuracy.configure(text=str(acc) + '%')           \n",
    "        \n",
    "    elif res == 40:\n",
    "        print('prediction : ४')\n",
    "        character.configure(text= '४,')\n",
    "        accuracy.configure(text=str(acc) + '%')           \n",
    "        \n",
    "    elif res == 41:\n",
    "        print('prediction : ५')\n",
    "        character.configure(text= '५,')\n",
    "        accuracy.configure(text=str(acc) + '%')           \n",
    "        \n",
    "    elif res == 42:\n",
    "        print('prediction : ६')\n",
    "        character.configure(text= '६,')\n",
    "        accuracy.configure(text=str(acc) + '%')           \n",
    "        \n",
    "    elif res == 43:\n",
    "        print('prediction : ७')\n",
    "        character.configure(text= '७,')\n",
    "        accuracy.configure(text=str(acc) + '%')           \n",
    "        \n",
    "    elif res == 44:\n",
    "        print('prediction : ८')\n",
    "        character.configure(text= '८,')\n",
    "        accuracy.configure(text=str(acc) + '%')           \n",
    "        \n",
    "    elif res == 45:\n",
    "        print('prediction : ९')\n",
    "        character.configure(text= '९,')\n",
    "        accuracy.configure(text=str(acc) + '%')           \n",
    "        "
   ]
  },
  {
   "cell_type": "markdown",
   "metadata": {},
   "source": [
    "# GUI Application using Tkinter"
   ]
  },
  {
   "cell_type": "code",
   "execution_count": 6,
   "metadata": {},
   "outputs": [
    {
     "name": "stdout",
     "output_type": "stream",
     "text": [
      "C:/Users/peris/Documents/Devanagari Character Recognition - 2020/Dataset/Test/character_14_dhaa/617.png\n",
      "100.0\n",
      "[0. 0. 0. 0. 0. 0. 0. 0. 0. 0. 0. 0. 0. 1. 0. 0. 0. 0. 0. 0. 0. 0. 0. 0.\n",
      " 0. 0. 0. 0. 0. 0. 0. 0. 0. 0. 0. 0. 0. 0. 0. 0. 0. 0. 0. 0. 0. 0.] 13 1.0\n",
      "13\n",
      "prediction : ढ\n",
      "C:/Users/peris/Documents/Devanagari Character Recognition - 2020/Dataset/Test/character_07_chha/4209.png\n",
      "100.0\n",
      "[0. 0. 0. 0. 0. 0. 1. 0. 0. 0. 0. 0. 0. 0. 0. 0. 0. 0. 0. 0. 0. 0. 0. 0.\n",
      " 0. 0. 0. 0. 0. 0. 0. 0. 0. 0. 0. 0. 0. 0. 0. 0. 0. 0. 0. 0. 0. 0.] 6 1.0\n",
      "6\n",
      "prediction : छ\n",
      "C:/Users/peris/Documents/Devanagari Character Recognition - 2020/Dataset/Test/character_05_kna/3955.png\n",
      "100.0\n",
      "[0. 0. 0. 0. 1. 0. 0. 0. 0. 0. 0. 0. 0. 0. 0. 0. 0. 0. 0. 0. 0. 0. 0. 0.\n",
      " 0. 0. 0. 0. 0. 0. 0. 0. 0. 0. 0. 0. 0. 0. 0. 0. 0. 0. 0. 0. 0. 0.] 4 1.0\n",
      "4\n",
      "prediction : ङ\n",
      "C:/Users/peris/Documents/Devanagari Character Recognition - 2020/Dataset/Test/character_24_bha/2096.png\n",
      "100.0\n",
      "[0. 0. 0. 0. 0. 0. 0. 0. 0. 0. 0. 0. 0. 0. 0. 0. 0. 0. 0. 0. 0. 0. 0. 1.\n",
      " 0. 0. 0. 0. 0. 0. 0. 0. 0. 0. 0. 0. 0. 0. 0. 0. 0. 0. 0. 0. 0. 0.] 23 1.0\n",
      "23\n",
      "prediction : भ\n",
      "C:/Users/peris/Documents/Devanagari Character Recognition - 2020/Dataset/Test/character_31_petchiryakha/2958.png\n",
      "100.0\n",
      "[0. 0. 0. 0. 0. 0. 0. 0. 0. 0. 0. 0. 0. 0. 0. 0. 0. 0. 0. 0. 0. 0. 0. 0.\n",
      " 0. 0. 0. 0. 0. 0. 1. 0. 0. 0. 0. 0. 0. 0. 0. 0. 0. 0. 0. 0. 0. 0.] 30 1.0\n",
      "30\n",
      "prediction : ष\n",
      "C:/Users/peris/Documents/Devanagari Character Recognition - 2020/Dataset/Test/digit_1/4741.png\n",
      "100.0\n",
      "[0. 0. 0. 0. 0. 0. 0. 0. 0. 0. 0. 0. 0. 0. 0. 0. 0. 0. 0. 0. 0. 0. 0. 0.\n",
      " 0. 0. 0. 0. 0. 0. 0. 0. 0. 0. 0. 0. 0. 1. 0. 0. 0. 0. 0. 0. 0. 0.] 37 1.0\n",
      "37\n",
      "prediction : १\n",
      "C:/Users/peris/Documents/Devanagari Character Recognition - 2020/Dataset/Test/character_28_la/2500.png\n",
      "100.0\n",
      "[0. 0. 0. 0. 0. 0. 0. 0. 0. 0. 0. 0. 0. 0. 0. 0. 0. 0. 0. 0. 0. 0. 0. 0.\n",
      " 0. 0. 0. 1. 0. 0. 0. 0. 0. 0. 0. 0. 0. 0. 0. 0. 0. 0. 0. 0. 0. 0.] 27 1.0\n",
      "27\n",
      "prediction : ल\n",
      "C:/Users/peris/Documents/Devanagari Character Recognition - 2020/Dataset/Test/character_28_la/2499.png\n",
      "100.0\n",
      "[0. 0. 0. 0. 0. 0. 0. 0. 0. 0. 0. 0. 0. 0. 0. 0. 0. 0. 0. 0. 0. 0. 0. 0.\n",
      " 0. 0. 0. 1. 0. 0. 0. 0. 0. 0. 0. 0. 0. 0. 0. 0. 0. 0. 0. 0. 0. 0.] 27 1.0\n",
      "27\n",
      "prediction : ल\n",
      "C:/Users/peris/Documents/Devanagari Character Recognition - 2020/Dataset/Test/character_28_la/2496.png\n",
      "100.0\n",
      "[0. 0. 0. 0. 0. 0. 0. 0. 0. 0. 0. 0. 0. 0. 0. 0. 0. 0. 0. 0. 0. 0. 0. 0.\n",
      " 0. 0. 0. 1. 0. 0. 0. 0. 0. 0. 0. 0. 0. 0. 0. 0. 0. 0. 0. 0. 0. 0.] 27 1.0\n",
      "27\n",
      "prediction : ल\n",
      "C:/Users/peris/Documents/Devanagari Character Recognition - 2020/Dataset/Test/character_28_la/2494.png\n",
      "100.0\n",
      "[0. 0. 0. 0. 0. 0. 0. 0. 0. 0. 0. 0. 0. 0. 0. 0. 0. 0. 0. 0. 0. 0. 0. 0.\n",
      " 0. 0. 0. 1. 0. 0. 0. 0. 0. 0. 0. 0. 0. 0. 0. 0. 0. 0. 0. 0. 0. 0.] 27 1.0\n",
      "27\n",
      "prediction : ल\n",
      "C:/Users/peris/Documents/Devanagari Character Recognition - 2020/Dataset/Test/character_28_la/2569.png\n",
      "100.0\n",
      "[0. 0. 0. 0. 0. 0. 0. 0. 0. 0. 0. 0. 0. 0. 0. 0. 0. 0. 0. 0. 0. 0. 0. 0.\n",
      " 0. 0. 0. 1. 0. 0. 0. 0. 0. 0. 0. 0. 0. 0. 0. 0. 0. 0. 0. 0. 0. 0.] 27 1.0\n",
      "27\n",
      "prediction : ल\n",
      "\n"
     ]
    },
    {
     "name": "stderr",
     "output_type": "stream",
     "text": [
      "Exception in Tkinter callback\n",
      "Traceback (most recent call last):\n",
      "  File \"C:\\Users\\peris\\anaconda3\\envs\\221710308043\\lib\\site-packages\\PIL\\Image.py\", line 2895, in open\n",
      "    fp.seek(0)\n",
      "AttributeError: 'str' object has no attribute 'seek'\n",
      "\n",
      "During handling of the above exception, another exception occurred:\n",
      "\n",
      "Traceback (most recent call last):\n",
      "  File \"C:\\Users\\peris\\anaconda3\\envs\\221710308043\\lib\\tkinter\\__init__.py\", line 1705, in __call__\n",
      "    return self.func(*args)\n",
      "  File \"<ipython-input-6-32dae1a27a72>\", line 59, in open_img\n",
      "    img = Image.open(x)\n",
      "  File \"C:\\Users\\peris\\anaconda3\\envs\\221710308043\\lib\\site-packages\\PIL\\Image.py\", line 2897, in open\n",
      "    fp = io.BytesIO(fp.read())\n",
      "AttributeError: 'str' object has no attribute 'read'\n"
     ]
    },
    {
     "name": "stdout",
     "output_type": "stream",
     "text": [
      "\n"
     ]
    },
    {
     "name": "stderr",
     "output_type": "stream",
     "text": [
      "Exception in Tkinter callback\n",
      "Traceback (most recent call last):\n",
      "  File \"C:\\Users\\peris\\anaconda3\\envs\\221710308043\\lib\\site-packages\\PIL\\Image.py\", line 2895, in open\n",
      "    fp.seek(0)\n",
      "AttributeError: 'str' object has no attribute 'seek'\n",
      "\n",
      "During handling of the above exception, another exception occurred:\n",
      "\n",
      "Traceback (most recent call last):\n",
      "  File \"C:\\Users\\peris\\anaconda3\\envs\\221710308043\\lib\\tkinter\\__init__.py\", line 1705, in __call__\n",
      "    return self.func(*args)\n",
      "  File \"<ipython-input-6-32dae1a27a72>\", line 59, in open_img\n",
      "    img = Image.open(x)\n",
      "  File \"C:\\Users\\peris\\anaconda3\\envs\\221710308043\\lib\\site-packages\\PIL\\Image.py\", line 2897, in open\n",
      "    fp = io.BytesIO(fp.read())\n",
      "AttributeError: 'str' object has no attribute 'read'\n"
     ]
    }
   ],
   "source": [
    "# Final Application GUI\n",
    "import numpy as np\n",
    "import matplotlib.pyplot as plt\n",
    "from tkinter import *\n",
    "import tkinter as tk\n",
    "# loading Python Imaging Library \n",
    "from PIL import ImageTk, Image \n",
    "from keras.models import load_model\n",
    "\n",
    "# To get the dialog box to open when required \n",
    "from tkinter import filedialog \n",
    "\n",
    "classifier.load_weights('CNN_DevanagariHandWrittenCharacterRecognition.h5')\n",
    "\n",
    "def single_prediction(test_img):\n",
    "    \n",
    "    test_img_arr = image.img_to_array(test_img)\n",
    "    \n",
    "    test_img_arr = np.expand_dims(test_img_arr, axis = 0)\n",
    "#     accuracy = classifier.predict(test_img_arr)[0]\n",
    "    prediction = classifier.predict(test_img_arr)\n",
    "    \n",
    "    result = np.argmax(prediction[0])\n",
    "    acc = round(prediction[0][np.argmax(prediction[0])]*100,3)\n",
    "    print(acc)\n",
    "    res = classifier.predict([test_img_arr])[0]\n",
    "    \n",
    "    print(res, np.argmax(res), max(res))\n",
    "    determine_character(result, str(acc))\n",
    "    \n",
    "def model():\n",
    "    accuracy.configure(text=\"Predicting...\")\n",
    "    test_img = image.load_img('C:/Users/peris/Documents/Devanagari Character Recognition - 2020/Dataset/SinglePrediction/image.jpg', target_size = (32, 32, 3))\n",
    "    single_prediction(test_img)\n",
    "    plt.imshow(test_img)\n",
    "\n",
    "def delete_created_image():\n",
    "    os.remove('C:/Users/peris/Documents/Devanagari Character Recognition - 2020/Dataset/SinglePrediction/image.jpg')\n",
    "\n",
    "def clear():\n",
    "    delete_created_image()\n",
    "    path = \"C:/Users/peris/Documents/Devanagari Character Recognition - 2020/Dataset/SinglePrediction/placeholder.jpg\"\n",
    "    img = Image.open(path) \n",
    "    img = img.resize((300, 300), Image.ANTIALIAS)\n",
    "    img = ImageTk.PhotoImage(img) \n",
    "    panel = Label(root, image = img) \n",
    "\n",
    "    # set the image as img  \n",
    "    panel.image = img \n",
    "    panel.grid(row = 1, pady=5, padx=5)\n",
    "    character.configure(text=\"\")\n",
    "    accuracy.configure(text=\"Upload\")\n",
    "    \n",
    "def open_img(): \n",
    "    # Select the Imagename  from a folder  \n",
    "    x = openfilename() \n",
    "    print(x)\n",
    "    # opens the image \n",
    "    img = Image.open(x) \n",
    "      \n",
    "    # resize the image and apply a high-quality down sampling filter \n",
    "    img = img.resize((300, 300), Image.ANTIALIAS)\n",
    "    \n",
    "    #img = ImageOps.invert(img)\n",
    "    filename = 'C:/Users/peris/Documents/Devanagari Character Recognition - 2020/Dataset/SinglePrediction/image.jpg'\n",
    "    img.save(filename)\n",
    "    # PhotoImage class is used to add image to widgets, icons etc \n",
    "    img = ImageTk.PhotoImage(img) \n",
    "    \n",
    " \n",
    "    panel = Label(root, image = img) \n",
    "      \n",
    "    # set the image as img  \n",
    "    panel.image = img \n",
    "    panel.grid(row = 1, pady=5, padx=5)\n",
    "\n",
    "def openfilename(): \n",
    "  \n",
    "    # open file dialog box to select image \n",
    "    filename = filedialog.askopenfilename(title ='Upload Image') \n",
    "    return filename \n",
    "    \n",
    "# Create a window \n",
    "root = Tk() \n",
    "\n",
    "# Set Title as Image Loader \n",
    "root.title(\"Devanagari Character Recognition\") \n",
    "root.resizable(0,0)\n",
    "# Set the resolution of window \n",
    "root.geometry(\"700x450+400+150\") \n",
    "root['bg'] = '#000'\n",
    "\n",
    "path = \"C:/Users/peris/Documents/Devanagari Character Recognition - 2020/Dataset/SinglePrediction/placeholder.jpg\"\n",
    "img = Image.open(path) \n",
    "img = img.resize((300, 300), Image.ANTIALIAS)\n",
    "img = ImageTk.PhotoImage(img) \n",
    "panel = Label(root, image = img) \n",
    "\n",
    "# set the image as img  \n",
    "panel.image = img \n",
    "panel.grid(row = 1, pady=5, padx=5)\n",
    "\n",
    "icon = PhotoImage(file = \"C:/Users/peris/Documents/Devanagari Character Recognition - 2020/Dataset/SinglePrediction/icon.png\") \n",
    "  \n",
    "# Setting icon of master window \n",
    "root.iconphoto(False, icon) \n",
    "\n",
    "\n",
    "character = tk.Label(root, text=\"\", font=(\"Helvetica\", 70), bg=\"black\", fg=\"white\")\n",
    "character.grid(row=1, column=2,pady=2, padx=2)\n",
    "accuracy = tk.Label(root, text=\"     Upload     \", font=(\"Helvetica\", 38), bg=\"black\", fg=\"white\")\n",
    "accuracy.grid(row=1, column=5,pady=2, padx=2)\n",
    "\n",
    "#functions\n",
    "btnPredict=tk.Button(text=\"Predict\",command=model, height=2, width=30, relief=GROOVE, bg=\"white\", fg=\"black\")\n",
    "\n",
    "btnPredict.grid(row=3, column=5, pady=2, padx=5)\n",
    "\n",
    "btnClear=tk.Button(text=\"Clear\",command=clear, height=2, width=30, relief=GROOVE, bg=\"white\", fg=\"black\")\n",
    "btnClear.grid(row=3, column=0, pady=2)\n",
    "\n",
    "btn = Button(root, text ='Open Image', command = open_img, pady=2, padx=2, height=2, width=30, relief=GROOVE, bg=\"white\", fg=\"black\").grid(row = 0, columnspan = 4) \n",
    "\n",
    "root.mainloop() "
   ]
  },
  {
   "cell_type": "code",
   "execution_count": null,
   "metadata": {},
   "outputs": [],
   "source": []
  }
 ],
 "metadata": {
  "kernelspec": {
   "display_name": "221710308043",
   "language": "python",
   "name": "221710308043"
  },
  "language_info": {
   "codemirror_mode": {
    "name": "ipython",
    "version": 3
   },
   "file_extension": ".py",
   "mimetype": "text/x-python",
   "name": "python",
   "nbconvert_exporter": "python",
   "pygments_lexer": "ipython3",
   "version": "3.7.8"
  }
 },
 "nbformat": 4,
 "nbformat_minor": 4
}
